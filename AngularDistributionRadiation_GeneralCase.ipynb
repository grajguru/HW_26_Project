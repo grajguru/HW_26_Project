{
 "cells": [
  {
   "cell_type": "markdown",
   "metadata": {
    "id": "zjbhuj6GMLI4"
   },
   "source": [
    "# Radiative Processes: Angular Distribution of Radiation\n",
    "## Project by Garima Rajguru"
   ]
  },
  {
   "cell_type": "markdown",
   "metadata": {
    "id": "ygQmtZCLMLI-"
   },
   "source": [
    "Installing and importing the necessary python libraries"
   ]
  },
  {
   "cell_type": "code",
   "execution_count": 15,
   "metadata": {
    "id": "ichNxx70MLI-"
   },
   "outputs": [],
   "source": [
    "import sys\n",
    "import numpy as np\n",
    "from ipywidgets import interact, interactive\n",
    "import ipywidgets as widgets\n",
    "\n",
    "!{sys.executable} -m pip install --quiet matplotlib\n",
    "\n",
    "import matplotlib.pyplot as plt"
   ]
  },
  {
   "cell_type": "markdown",
   "metadata": {},
   "source": [
    "## Visualizing Radiation from a General Accelerating Charge"
   ]
  },
  {
   "cell_type": "markdown",
   "metadata": {},
   "source": [
    "### Angular Distribution of Dipole Radiation: General Case"
   ]
  },
  {
   "cell_type": "markdown",
   "metadata": {},
   "source": [
    "Let $\\alpha$ be the angle between acceleration and velocity of charge.\\\n",
    "$cos\\Theta^\\prime = sin(\\alpha) sin(\\theta^\\prime) cos(\\phi^\\prime) + cos(\\alpha) cos(\\theta^\\prime) $ \\\n",
    "$ \\frac{dP}{d\\Omega} = \\frac{q^2}{4 \\pi c^3} (\\gamma^2 a_\\parallel^2+a_\\perp^2) \\frac{sin^2\\Theta^\\prime}{(1-\\beta\\mu)^4} $"
   ]
  },
  {
   "cell_type": "markdown",
   "metadata": {},
   "source": [
    "#### Non-relativistic Case"
   ]
  },
  {
   "cell_type": "markdown",
   "metadata": {
    "id": "cSVgg2YaMLJC"
   },
   "source": [
    "Dipole radiation pattern for particle at rest. $\\beta = 0$"
   ]
  },
  {
   "cell_type": "markdown",
   "metadata": {},
   "source": [
    "#### Velocity and Acceleration are parallel"
   ]
  },
  {
   "cell_type": "markdown",
   "metadata": {},
   "source": [
    "$\\alpha=0$"
   ]
  },
  {
   "cell_type": "markdown",
   "metadata": {},
   "source": [
    "#### Velocity and Acceleration are perpendicular"
   ]
  },
  {
   "cell_type": "markdown",
   "metadata": {},
   "source": [
    "$\\alpha=\\frac{\\pi}{2}$"
   ]
  },
  {
   "cell_type": "code",
   "execution_count": 17,
   "metadata": {},
   "outputs": [
    {
     "data": {
      "application/vnd.jupyter.widget-view+json": {
       "model_id": "47c6e78621304b2c9a3c58b842f674ec",
       "version_major": 2,
       "version_minor": 0
      },
      "text/plain": [
       "interactive(children=(BoundedFloatText(value=40.0, description='elev', min=1.0, step=10.0), BoundedFloatText(v…"
      ]
     },
     "metadata": {},
     "output_type": "display_data"
    },
    {
     "data": {
      "text/plain": [
       "<function __main__.plot_dif(elev, azim, roll, beta, alpha)>"
      ]
     },
     "execution_count": 17,
     "metadata": {},
     "output_type": "execute_result"
    }
   ],
   "source": [
    "elev=40\n",
    "azim = 10\n",
    "roll = 10\n",
    "beta=0.5\n",
    "\n",
    "alpha=np.pi/4               # =0 deg(a parallel to v), =90 deg(a perpendicular to v)\n",
    "a=10                        #acceleration\n",
    "a_perp=a*np.cos(alpha)      #perpendicular component of acceleration\n",
    "a_par=a*np.sin(alpha)       #parallel component of acceleration\n",
    "\n",
    "\n",
    "def plot_dif(elev,azim,roll,beta,alpha):\n",
    "    gamma=1/np.sqrt(1-beta**2.0)\n",
    "    a0_perp=a_perp*np.power(gamma,2.0)\n",
    "    a0_par=a_par*np.power(gamma,3.0)\n",
    "    \n",
    "    fig = plt.figure()\n",
    "    ax = fig.add_subplot(projection='3d')\n",
    "\n",
    "    # Make data\n",
    "    u = np.linspace(0, 2 * np.pi, 100)\n",
    "    v = np.linspace(0, np.pi, 100)\n",
    "    cos_Theta=np.sin(alpha)*np.sin(v)*np.cos(u)+np.cos(alpha)*np.cos(v)\n",
    "    sin_Theta=np.sqrt(1-(cos_Theta**2.0))         #getting sine from cosine\n",
    "    \n",
    "    x = 10 * np.outer(np.cos(u), np.sin(v)*(((a0_perp**2.0+np.power(gamma*a0_par,2.0))*np.power(sin_Theta, 2))/np.power(1-beta*np.cos(v),4)))\n",
    "    y = 10 * np.outer(np.sin(u), np.sin(v)*(((a0_perp**2.0+np.power(gamma*a0_par,2.0))*np.power(sin_Theta, 2))/np.power(1-beta*np.cos(v),4)))\n",
    "    z = 10 * np.outer(np.ones(np.size(u)), np.cos(v)*(((a0_perp**2.0+np.power(gamma*a0_par,2.0))*np.power(sin_Theta, 2))/np.power(1-beta*np.cos(v),4)))\n",
    "\n",
    "    # Plot the surface\n",
    "    ax.plot_surface(x, y, z)\n",
    "\n",
    "    # Set an equal aspect ratio\n",
    "    ax.set_aspect('auto')\n",
    "    ax.view_init(elev,azim)\n",
    "    # To access parameter roll while viewing, uncomment the line below:\n",
    "    # ax.view_init(elev,azim, roll)\n",
    "\n",
    "    plt.show()\n",
    "\n",
    "interact(plot_dif, elev = widgets.BoundedFloatText(value=40, min=1, max = 100, step=10,\n",
    "                                                       descriptions='elev', disabled=False),\\\n",
    "         azim = widgets.BoundedFloatText(value=10, min=0, max =360, step=10,\n",
    "                                                       descriptions='azim', disabled=False), \\\n",
    "         roll = widgets.BoundedFloatText(value=10, min=1, max = 100, step=10,\n",
    "                                                       descriptions='roll', disabled=False), \\\n",
    "        beta = widgets.BoundedFloatText(value=0.5, min=0.0, max = 0.9, step=0.05,\n",
    "                                                       descriptions='beta', disabled=False),\\\n",
    "        alpha=widgets.BoundedFloatText(value=0, min=0.0, max = np.pi/2, step=0.05,\n",
    "                                                       descriptions='alpha', disabled=False))"
   ]
  },
  {
   "cell_type": "code",
   "execution_count": null,
   "metadata": {},
   "outputs": [],
   "source": []
  }
 ],
 "metadata": {
  "colab": {
   "provenance": []
  },
  "interpreter": {
   "hash": "fd578b525fe7fcca8a3ea11350d18bcbeb29af20bd1df15f6c5fd2c9cf111483"
  },
  "kernelspec": {
   "display_name": "Python 3",
   "language": "python",
   "name": "python3"
  },
  "language_info": {
   "codemirror_mode": {
    "name": "ipython",
    "version": 3
   },
   "file_extension": ".py",
   "mimetype": "text/x-python",
   "name": "python",
   "nbconvert_exporter": "python",
   "pygments_lexer": "ipython3",
   "version": "3.8.8"
  },
  "widgets": {
   "application/vnd.jupyter.widget-state+json": {
    "0d0b78f737554a9d9872664ac3ee9aa4": {
     "model_module": "@jupyter-widgets/controls",
     "model_module_version": "1.5.0",
     "model_name": "BoundedFloatTextModel",
     "state": {
      "_dom_classes": [],
      "_model_module": "@jupyter-widgets/controls",
      "_model_module_version": "1.5.0",
      "_model_name": "BoundedFloatTextModel",
      "_view_count": null,
      "_view_module": "@jupyter-widgets/controls",
      "_view_module_version": "1.5.0",
      "_view_name": "FloatTextView",
      "continuous_update": false,
      "description": "azim",
      "description_tooltip": null,
      "disabled": false,
      "layout": "IPY_MODEL_90874bb30a024ad69935992cc0bb679e",
      "max": 360,
      "min": 0,
      "step": 10,
      "style": "IPY_MODEL_a296adf8d07a4efea7e36e275eb47d03",
      "value": 40
     }
    },
    "315e41b4e328449d8f301874c381cd14": {
     "model_module": "@jupyter-widgets/base",
     "model_module_version": "1.2.0",
     "model_name": "LayoutModel",
     "state": {
      "_model_module": "@jupyter-widgets/base",
      "_model_module_version": "1.2.0",
      "_model_name": "LayoutModel",
      "_view_count": null,
      "_view_module": "@jupyter-widgets/base",
      "_view_module_version": "1.2.0",
      "_view_name": "LayoutView",
      "align_content": null,
      "align_items": null,
      "align_self": null,
      "border": null,
      "bottom": null,
      "display": null,
      "flex": null,
      "flex_flow": null,
      "grid_area": null,
      "grid_auto_columns": null,
      "grid_auto_flow": null,
      "grid_auto_rows": null,
      "grid_column": null,
      "grid_gap": null,
      "grid_row": null,
      "grid_template_areas": null,
      "grid_template_columns": null,
      "grid_template_rows": null,
      "height": null,
      "justify_content": null,
      "justify_items": null,
      "left": null,
      "margin": null,
      "max_height": null,
      "max_width": null,
      "min_height": null,
      "min_width": null,
      "object_fit": null,
      "object_position": null,
      "order": null,
      "overflow": null,
      "overflow_x": null,
      "overflow_y": null,
      "padding": null,
      "right": null,
      "top": null,
      "visibility": null,
      "width": null
     }
    },
    "3da8c69b06ff4f2d96e1687c92114695": {
     "model_module": "@jupyter-widgets/controls",
     "model_module_version": "1.5.0",
     "model_name": "DescriptionStyleModel",
     "state": {
      "_model_module": "@jupyter-widgets/controls",
      "_model_module_version": "1.5.0",
      "_model_name": "DescriptionStyleModel",
      "_view_count": null,
      "_view_module": "@jupyter-widgets/base",
      "_view_module_version": "1.2.0",
      "_view_name": "StyleView",
      "description_width": ""
     }
    },
    "4782aa3da56746a3958b3a6c20a13359": {
     "model_module": "@jupyter-widgets/controls",
     "model_module_version": "1.5.0",
     "model_name": "DescriptionStyleModel",
     "state": {
      "_model_module": "@jupyter-widgets/controls",
      "_model_module_version": "1.5.0",
      "_model_name": "DescriptionStyleModel",
      "_view_count": null,
      "_view_module": "@jupyter-widgets/base",
      "_view_module_version": "1.2.0",
      "_view_name": "StyleView",
      "description_width": ""
     }
    },
    "47841b71ec04475e802e11e84704beef": {
     "model_module": "@jupyter-widgets/controls",
     "model_module_version": "1.5.0",
     "model_name": "BoundedFloatTextModel",
     "state": {
      "_dom_classes": [],
      "_model_module": "@jupyter-widgets/controls",
      "_model_module_version": "1.5.0",
      "_model_name": "BoundedFloatTextModel",
      "_view_count": null,
      "_view_module": "@jupyter-widgets/controls",
      "_view_module_version": "1.5.0",
      "_view_name": "FloatTextView",
      "continuous_update": false,
      "description": "elev",
      "description_tooltip": null,
      "disabled": false,
      "layout": "IPY_MODEL_df00a8b28743483c8d160b9ac5143d86",
      "max": 100,
      "min": 1,
      "step": 10,
      "style": "IPY_MODEL_4782aa3da56746a3958b3a6c20a13359",
      "value": 61
     }
    },
    "5d570d3a237f4b4bbfefb72fa8b08608": {
     "model_module": "@jupyter-widgets/controls",
     "model_module_version": "1.5.0",
     "model_name": "VBoxModel",
     "state": {
      "_dom_classes": [
       "widget-interact"
      ],
      "_model_module": "@jupyter-widgets/controls",
      "_model_module_version": "1.5.0",
      "_model_name": "VBoxModel",
      "_view_count": null,
      "_view_module": "@jupyter-widgets/controls",
      "_view_module_version": "1.5.0",
      "_view_name": "VBoxView",
      "box_style": "",
      "children": [
       "IPY_MODEL_47841b71ec04475e802e11e84704beef",
       "IPY_MODEL_0d0b78f737554a9d9872664ac3ee9aa4",
       "IPY_MODEL_ee4414ab3e1a49e69ef84749fd774ebd",
       "IPY_MODEL_c901c2f61b2f43aaa1081d7ae24cd90e"
      ],
      "layout": "IPY_MODEL_d572df896b3240a38137fe8ec8d1ed62"
     }
    },
    "90874bb30a024ad69935992cc0bb679e": {
     "model_module": "@jupyter-widgets/base",
     "model_module_version": "1.2.0",
     "model_name": "LayoutModel",
     "state": {
      "_model_module": "@jupyter-widgets/base",
      "_model_module_version": "1.2.0",
      "_model_name": "LayoutModel",
      "_view_count": null,
      "_view_module": "@jupyter-widgets/base",
      "_view_module_version": "1.2.0",
      "_view_name": "LayoutView",
      "align_content": null,
      "align_items": null,
      "align_self": null,
      "border": null,
      "bottom": null,
      "display": null,
      "flex": null,
      "flex_flow": null,
      "grid_area": null,
      "grid_auto_columns": null,
      "grid_auto_flow": null,
      "grid_auto_rows": null,
      "grid_column": null,
      "grid_gap": null,
      "grid_row": null,
      "grid_template_areas": null,
      "grid_template_columns": null,
      "grid_template_rows": null,
      "height": null,
      "justify_content": null,
      "justify_items": null,
      "left": null,
      "margin": null,
      "max_height": null,
      "max_width": null,
      "min_height": null,
      "min_width": null,
      "object_fit": null,
      "object_position": null,
      "order": null,
      "overflow": null,
      "overflow_x": null,
      "overflow_y": null,
      "padding": null,
      "right": null,
      "top": null,
      "visibility": null,
      "width": null
     }
    },
    "a296adf8d07a4efea7e36e275eb47d03": {
     "model_module": "@jupyter-widgets/controls",
     "model_module_version": "1.5.0",
     "model_name": "DescriptionStyleModel",
     "state": {
      "_model_module": "@jupyter-widgets/controls",
      "_model_module_version": "1.5.0",
      "_model_name": "DescriptionStyleModel",
      "_view_count": null,
      "_view_module": "@jupyter-widgets/base",
      "_view_module_version": "1.2.0",
      "_view_name": "StyleView",
      "description_width": ""
     }
    },
    "c901c2f61b2f43aaa1081d7ae24cd90e": {
     "model_module": "@jupyter-widgets/output",
     "model_module_version": "1.0.0",
     "model_name": "OutputModel",
     "state": {
      "_dom_classes": [],
      "_model_module": "@jupyter-widgets/output",
      "_model_module_version": "1.0.0",
      "_model_name": "OutputModel",
      "_view_count": null,
      "_view_module": "@jupyter-widgets/output",
      "_view_module_version": "1.0.0",
      "_view_name": "OutputView",
      "layout": "IPY_MODEL_f963aa8f575b4eec8daacf7a139d4f32",
      "msg_id": "",
      "outputs": [
       {
        "data": {
         "image/png": "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\n",
         "text/plain": "<Figure size 640x480 with 1 Axes>"
        },
        "metadata": {},
        "output_type": "display_data"
       }
      ]
     }
    },
    "d572df896b3240a38137fe8ec8d1ed62": {
     "model_module": "@jupyter-widgets/base",
     "model_module_version": "1.2.0",
     "model_name": "LayoutModel",
     "state": {
      "_model_module": "@jupyter-widgets/base",
      "_model_module_version": "1.2.0",
      "_model_name": "LayoutModel",
      "_view_count": null,
      "_view_module": "@jupyter-widgets/base",
      "_view_module_version": "1.2.0",
      "_view_name": "LayoutView",
      "align_content": null,
      "align_items": null,
      "align_self": null,
      "border": null,
      "bottom": null,
      "display": null,
      "flex": null,
      "flex_flow": null,
      "grid_area": null,
      "grid_auto_columns": null,
      "grid_auto_flow": null,
      "grid_auto_rows": null,
      "grid_column": null,
      "grid_gap": null,
      "grid_row": null,
      "grid_template_areas": null,
      "grid_template_columns": null,
      "grid_template_rows": null,
      "height": null,
      "justify_content": null,
      "justify_items": null,
      "left": null,
      "margin": null,
      "max_height": null,
      "max_width": null,
      "min_height": null,
      "min_width": null,
      "object_fit": null,
      "object_position": null,
      "order": null,
      "overflow": null,
      "overflow_x": null,
      "overflow_y": null,
      "padding": null,
      "right": null,
      "top": null,
      "visibility": null,
      "width": null
     }
    },
    "df00a8b28743483c8d160b9ac5143d86": {
     "model_module": "@jupyter-widgets/base",
     "model_module_version": "1.2.0",
     "model_name": "LayoutModel",
     "state": {
      "_model_module": "@jupyter-widgets/base",
      "_model_module_version": "1.2.0",
      "_model_name": "LayoutModel",
      "_view_count": null,
      "_view_module": "@jupyter-widgets/base",
      "_view_module_version": "1.2.0",
      "_view_name": "LayoutView",
      "align_content": null,
      "align_items": null,
      "align_self": null,
      "border": null,
      "bottom": null,
      "display": null,
      "flex": null,
      "flex_flow": null,
      "grid_area": null,
      "grid_auto_columns": null,
      "grid_auto_flow": null,
      "grid_auto_rows": null,
      "grid_column": null,
      "grid_gap": null,
      "grid_row": null,
      "grid_template_areas": null,
      "grid_template_columns": null,
      "grid_template_rows": null,
      "height": null,
      "justify_content": null,
      "justify_items": null,
      "left": null,
      "margin": null,
      "max_height": null,
      "max_width": null,
      "min_height": null,
      "min_width": null,
      "object_fit": null,
      "object_position": null,
      "order": null,
      "overflow": null,
      "overflow_x": null,
      "overflow_y": null,
      "padding": null,
      "right": null,
      "top": null,
      "visibility": null,
      "width": null
     }
    },
    "ee4414ab3e1a49e69ef84749fd774ebd": {
     "model_module": "@jupyter-widgets/controls",
     "model_module_version": "1.5.0",
     "model_name": "BoundedFloatTextModel",
     "state": {
      "_dom_classes": [],
      "_model_module": "@jupyter-widgets/controls",
      "_model_module_version": "1.5.0",
      "_model_name": "BoundedFloatTextModel",
      "_view_count": null,
      "_view_module": "@jupyter-widgets/controls",
      "_view_module_version": "1.5.0",
      "_view_name": "FloatTextView",
      "continuous_update": false,
      "description": "roll",
      "description_tooltip": null,
      "disabled": false,
      "layout": "IPY_MODEL_315e41b4e328449d8f301874c381cd14",
      "max": 100,
      "min": 1,
      "step": 10,
      "style": "IPY_MODEL_3da8c69b06ff4f2d96e1687c92114695",
      "value": 1
     }
    },
    "f963aa8f575b4eec8daacf7a139d4f32": {
     "model_module": "@jupyter-widgets/base",
     "model_module_version": "1.2.0",
     "model_name": "LayoutModel",
     "state": {
      "_model_module": "@jupyter-widgets/base",
      "_model_module_version": "1.2.0",
      "_model_name": "LayoutModel",
      "_view_count": null,
      "_view_module": "@jupyter-widgets/base",
      "_view_module_version": "1.2.0",
      "_view_name": "LayoutView",
      "align_content": null,
      "align_items": null,
      "align_self": null,
      "border": null,
      "bottom": null,
      "display": null,
      "flex": null,
      "flex_flow": null,
      "grid_area": null,
      "grid_auto_columns": null,
      "grid_auto_flow": null,
      "grid_auto_rows": null,
      "grid_column": null,
      "grid_gap": null,
      "grid_row": null,
      "grid_template_areas": null,
      "grid_template_columns": null,
      "grid_template_rows": null,
      "height": null,
      "justify_content": null,
      "justify_items": null,
      "left": null,
      "margin": null,
      "max_height": null,
      "max_width": null,
      "min_height": null,
      "min_width": null,
      "object_fit": null,
      "object_position": null,
      "order": null,
      "overflow": null,
      "overflow_x": null,
      "overflow_y": null,
      "padding": null,
      "right": null,
      "top": null,
      "visibility": null,
      "width": null
     }
    }
   }
  }
 },
 "nbformat": 4,
 "nbformat_minor": 1
}
